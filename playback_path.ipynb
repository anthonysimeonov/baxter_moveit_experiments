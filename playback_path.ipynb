{
 "cells": [
  {
   "cell_type": "code",
   "execution_count": null,
   "metadata": {},
   "outputs": [],
   "source": [
    "import numpy as np\n",
    "import rospy\n",
    "import baxter_interface\n",
    "import pickle\n",
    "\n",
    "import copy\n",
    "from motion_planning_data_gen import *"
   ]
  },
  {
   "cell_type": "markdown",
   "metadata": {},
   "source": [
    "### Set up functions for collision checking and playback"
   ]
  },
  {
   "cell_type": "code",
   "execution_count": null,
   "metadata": {},
   "outputs": [],
   "source": [
    "# Joint ranges for the baxter, in the order defined in the Baxter SDK (NOT the MoveIt! order)\n",
    "joint_ranges = np.array([3.4033, 3.194, 6.117, 3.6647, 6.117, 6.1083, 2.67])\n",
    "\n",
    "def compute_cost(path):\n",
    "    # Overall Euclidean path length in C-space\n",
    "    dlist = []\n",
    "    for k in range(len(path)-1):\n",
    "        sq_dists = 0\n",
    "        for j in range(0,7):\n",
    "            diff = path[k][j] - path[k+1][j]\n",
    "            sq_dist += diff * diff\n",
    "\n",
    "        dlist.append(math.sqrt(sq_dists))\n",
    "\n",
    "    return sum(dlist)\n",
    "\n",
    "def unscramble_path(path):\n",
    "    # Calls moveit_unscrambler function on each state to change from MoveIt joint order to Baxter joint order\n",
    "    new_path = []\n",
    "    for state in path:\n",
    "        new_state = moveit_unscrambler(state)\n",
    "        new_path.append(new_state)\n",
    "        \n",
    "    return new_path\n",
    "\n",
    "def check_full_path(overall_path):\n",
    "    # Calls a state validity service on each state in the path\n",
    "    invalid = []\n",
    "\n",
    "    valid = True           #state validity\n",
    "    overall_valid = True   #overall validity\n",
    "\n",
    "    for i, state in enumerate(overall_path):\n",
    "        filler_robot_state[10:17] = moveit_scrambler(state)\n",
    "        rs_man.joint_state.position = tuple(filler_robot_state)\n",
    "        collision_free = sv.getStateValidity(rs_man, group_name=\"right_arm\")\n",
    "\n",
    "        valid = valid and collision_free\n",
    "        overall_valid = overall_valid and collision_free\n",
    "\n",
    "        if not valid:\n",
    "            invalid.append(i)\n",
    "            valid = True    #reset on each waypoint\n",
    "\n",
    "    if (len(invalid)==0 and overall_valid):\n",
    "        print(\"Full path valid!\")\n",
    "    else:\n",
    "        print(\"Not valid\")\n",
    "        \n",
    "    return overall_valid\n",
    "\n",
    "def play_smooth(overall_path, sleep=False):\n",
    "    k = 1\n",
    "    \n",
    "    joint_state = limb.joint_angles()\n",
    "    if sleep:\n",
    "        print(\"sleeping for 5 seconds to setup\")\n",
    "        time.sleep(5)\n",
    "    \n",
    "    done = False\n",
    "\n",
    "    while not done:\n",
    "        for i, name in enumerate(joint_state.keys()):\n",
    "            joint_state[name] = overall_path[k][i]\n",
    "        there = False\n",
    "        start = time.time()\n",
    "        while not there:\n",
    "            limb.set_joint_positions(joint_state)\n",
    "            now = time.time()\n",
    "            if (now - start) > 0.05:\n",
    "                there = True\n",
    "        k += 1\n",
    "        if k > len(overall_path)-1:\n",
    "            done = True"
   ]
  },
  {
   "cell_type": "markdown",
   "metadata": {},
   "source": [
    "### Set up ROS node, baxter interface, and planning scene, and load environment information"
   ]
  },
  {
   "cell_type": "code",
   "execution_count": null,
   "metadata": {},
   "outputs": [],
   "source": [
    "rospy.init_node(\"playback\")\n",
    "\n",
    "limb_connect = False\n",
    "while not limb_connect:\n",
    "    try:\n",
    "        limb = baxter_interface.Limb('right')\n",
    "        limb_connect = True\n",
    "    except OSError:\n",
    "        limb_connect = False\n",
    "        \n",
    "limb.set_joint_position_speed(0.25)        \n",
    "gripper = baxter_interface.Gripper('right')\n",
    "\n",
    "scene = PlanningSceneInterface()\n",
    "scene._scene_pub = rospy.Publisher('planning_scene', PlanningScene, queue_size=0)\n",
    "robot = RobotCommander()\n",
    "group = MoveGroupCommander(\"right_arm\")\n",
    "sv = StateValidity()\n",
    "\n",
    "set_environment(robot, scene)\n",
    "\n",
    "with open(\"env/trainEnvironments.pkl\", \"rb\") as env_f:\n",
    "    masterEnvDict = pickle.load(env_f)\n",
    "\n",
    "# Load the scene with the obstacles as defined in the environment dictionary file, under key 'obsData'\n",
    "# which contains the obstacle information (mesh file, scale, name, etc.)\n",
    "sceneModifier = PlanningSceneModifier(masterEnvDict['obsData'])\n",
    "sceneModifier.setup_scene(scene, robot, group)\n",
    "\n",
    "# Construct a state object in case you want to do collision checking\n",
    "rs_man = RobotState()\n",
    "robot_state = robot.get_current_state()\n",
    "rs_man.joint_state.name = robot_state.joint_state.name\n",
    "filler_robot_state = list(robot_state.joint_state.position)"
   ]
  },
  {
   "cell_type": "markdown",
   "metadata": {},
   "source": [
    "### Apply changes to environment"
   ]
  },
  {
   "cell_type": "code",
   "execution_count": null,
   "metadata": {},
   "outputs": [],
   "source": [
    "sceneModifier.delete_obstacles()"
   ]
  },
  {
   "cell_type": "code",
   "execution_count": null,
   "metadata": {},
   "outputs": [],
   "source": [
    "# all environments are called 'trainEnv_N' with N = linspace(0, 9, 1)\n",
    "env = 'trainEnv_4'\n",
    "new_pose = masterEnvDict['poses'][env]\n",
    "sceneModifier.permute_obstacles(new_pose)"
   ]
  },
  {
   "cell_type": "markdown",
   "metadata": {},
   "source": [
    "### Open path data file, set up for playback, and use Baxter interface to execute"
   ]
  },
  {
   "cell_type": "code",
   "execution_count": null,
   "metadata": {},
   "outputs": [],
   "source": [
    "with open('data/path_data_example_' + env + '.pkl', 'rb') as path_f:\n",
    "    paths_dict = pickle.load(path_f)   "
   ]
  },
  {
   "cell_type": "code",
   "execution_count": null,
   "metadata": {},
   "outputs": [],
   "source": [
    "path = paths_dict['paths'][0][1:] # all feasible paths saved in paths_dict['paths'] list, first state duplicate removed\n",
    "path = unscramble_path(path) # MoveIt and baxter_interface order joints differently\n",
    "\n",
    "path_rev = copy.deepcopy(path)\n",
    "path_rev.reverse()\n",
    "\n",
    "check_full_path(path)"
   ]
  },
  {
   "cell_type": "code",
   "execution_count": null,
   "metadata": {},
   "outputs": [],
   "source": [
    "play_smooth(path)"
   ]
  }
 ],
 "metadata": {
  "kernelspec": {
   "display_name": "Python 2",
   "language": "python",
   "name": "python2"
  },
  "language_info": {
   "codemirror_mode": {
    "name": "ipython",
    "version": 2
   },
   "file_extension": ".py",
   "mimetype": "text/x-python",
   "name": "python",
   "nbconvert_exporter": "python",
   "pygments_lexer": "ipython2",
   "version": "2.7.12"
  }
 },
 "nbformat": 4,
 "nbformat_minor": 2
}
