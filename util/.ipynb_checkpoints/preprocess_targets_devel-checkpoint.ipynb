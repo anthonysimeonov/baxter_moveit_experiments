{
 "cells": [
  {
   "cell_type": "code",
   "execution_count": 1,
   "metadata": {},
   "outputs": [],
   "source": [
    "from motion_planning_dataset import *\n",
    "import pickle\n",
    "\n",
    "rospy.init_node(\"debug_moveit\")"
   ]
  },
  {
   "cell_type": "code",
   "execution_count": 2,
   "metadata": {},
   "outputs": [
    {
     "name": "stdout",
     "output_type": "stream",
     "text": [
      "[INFO] [1546565539.363022, 12441.836000]: Initializing stateValidity class\n",
      "[INFO] [1546565539.364279, 12441.836000]: Connecting to State Validity service\n",
      "[INFO] [1546565539.368661, 12441.836000]: Reached this point\n",
      "[INFO] [1546565539.371638, 12443.063000]: Ready for making Validity calls\n"
     ]
    },
    {
     "name": "stderr",
     "output_type": "stream",
     "text": [
      "[WARN] [1546565539.371066, 12443.063000]: Param '/play_motion/approach_planner/planning_groups' not set. We can't guess controllers\n"
     ]
    },
    {
     "name": "stdout",
     "output_type": "stream",
     "text": [
      "['duck', 'mpnet_box1', 'mpnet_box2', 'mpnet_box3', 'mpnet_box4', 'mpnet_box5', 'table_center', 'table_side_left', 'table_side_right', 'wall']\n",
      "joint_state: \n",
      "  header: \n",
      "    seq: 0\n",
      "    stamp: \n",
      "      secs: 0\n",
      "      nsecs:         0\n",
      "    frame_id: \"world\"\n",
      "  name: [head_pan, left_s0, left_s1, left_e0, left_e1, left_w0, left_w1, left_w2, l_gripper_l_finger_joint,\n",
      "  l_gripper_r_finger_joint, right_s0, right_s1, right_e0, right_e1, right_w0, right_w1,\n",
      "  right_w2, r_gripper_l_finger_joint, r_gripper_r_finger_joint]\n",
      "  position: [-4.482228703395208e-05, 0.1924722540632242, 1.0470000263612045, -0.005698458027657338, 0.4931456433197674, -0.3999991705153496, 0.023547143778347213, -0.10719144628691701, 0.020833036536666856, 7.17341045530968e-08, -0.2721919237318744, 1.0470000140020002, 0.010426666701310872, 0.49358749209962927, 0.3002287851682981, 0.01800152064032723, 0.2709959874200436, -3.999902777039712e-09, -0.020833001974766667]\n",
      "  velocity: []\n",
      "  effort: []\n",
      "multi_dof_joint_state: \n",
      "  header: \n",
      "    seq: 0\n",
      "    stamp: \n",
      "      secs: 0\n",
      "      nsecs:         0\n",
      "    frame_id: \"world\"\n",
      "  joint_names: []\n",
      "  transforms: []\n",
      "  twist: []\n",
      "  wrench: []\n",
      "attached_collision_objects: []\n",
      "is_diff: False\n"
     ]
    }
   ],
   "source": [
    "limb = baxter_interface.Limb('right')\n",
    "def_angles = limb.joint_angles()\n",
    "limb.set_joint_position_speed(0.65)\n",
    "robot_state_collision_pub = rospy.Publisher('/robot_collision_state', DisplayRobotState, queue_size=0)\n",
    "scene = PlanningSceneInterface()\n",
    "scene._scene_pub = rospy.Publisher('planning_scene',\n",
    "                                          PlanningScene,\n",
    "                                          queue_size=0)\n",
    "robot = RobotCommander()\n",
    "group = MoveGroupCommander(\"right_arm\")\n",
    "# group.set_goal_joint_tolerance(0.001)\n",
    "# group.set_max_velocity_scaling_factor(0.5)\n",
    "# group.set_max_acceleration_scaling_factor(0.05)\n",
    "\n",
    "rs_man = RobotState()\n",
    "\n",
    "sv = StateValidity()\n",
    "set_environment(robot, scene)\n",
    "\n",
    "masterPoseDict = {}\n",
    "poseFile = \"poseTest_1.pkl\"\n",
    "paths = []\n",
    "pathsFile = \"pathsTest_1.pkl\"\n",
    "iter_num = 0\n",
    "\n",
    "masterModifier = ShelfSceneModifier()\n",
    "sceneModifier = PlanningSceneModifier(masterModifier.obstacles)\n",
    "sceneModifier.setup_scene(scene, robot, group)\n",
    "\n",
    "robot_state = robot.get_current_state()\n",
    "print(robot_state)\n",
    "rs_man = RobotState()  # constructed manually for comparison\n",
    "rs_man.joint_state.name = robot_state.joint_state.name\n",
    "t = time.time()\n",
    "\n",
    "done = False"
   ]
  },
  {
   "cell_type": "code",
   "execution_count": 3,
   "metadata": {},
   "outputs": [
    {
     "name": "stdout",
     "output_type": "stream",
     "text": [
      "['duck', 'mpnet_box1', 'mpnet_box2', 'mpnet_box3', 'mpnet_box4', 'mpnet_box5', 'table_center', 'table_side_left', 'table_side_right', 'wall']\n"
     ]
    }
   ],
   "source": [
    "sceneModifier.delete_obstacles()\n",
    "new_pose = masterModifier.permute_obstacles()\n",
    "key_name = 'Pose_' + str(iter_num)\n",
    "\n",
    "sceneModifier.permute_obstacles(new_pose)"
   ]
  },
  {
   "cell_type": "code",
   "execution_count": null,
   "metadata": {},
   "outputs": [],
   "source": [
    "# at this point, environment should be set with objects randomly arranged and themselves collision free\n",
    "# can save this as the env"
   ]
  },
  {
   "cell_type": "code",
   "execution_count": null,
   "metadata": {},
   "outputs": [],
   "source": [
    "# after loading a preprocessed environment, now want to follow the following steps\n",
    "# 1. group.get_random_pose, to obtain a Pose[x, y, z]\n",
    "# 2. Check whether the sampled pose is within the desired boundaries, if not get a new one\n",
    "# 3. Convert the pose to a joint_state using inverse kinematics\n",
    "# 4. Use the obtained joint_state to use the StateValidity checker to see if it's collision free with the obstacles\n",
    "# 5. If not start over? or perturb the pose a bit?"
   ]
  },
  {
   "cell_type": "code",
   "execution_count": 4,
   "metadata": {},
   "outputs": [],
   "source": [
    "import argparse\n",
    "import sys\n",
    "\n",
    "import rospy\n",
    "\n",
    "from geometry_msgs.msg import (\n",
    "    PoseStamped,\n",
    "    Pose,\n",
    "    Point,\n",
    "    Quaternion,\n",
    ")\n",
    "from std_msgs.msg import Header\n",
    "\n",
    "from baxter_core_msgs.srv import (\n",
    "    SolvePositionIK,\n",
    "    SolvePositionIKRequest,\n",
    ")"
   ]
  },
  {
   "cell_type": "code",
   "execution_count": 156,
   "metadata": {},
   "outputs": [],
   "source": [
    "def ik_test(pose, printing=False):\n",
    "    ns = \"ExternalTools/right/PositionKinematicsNode/IKService\"\n",
    "    iksvc = rospy.ServiceProxy(ns, SolvePositionIK)\n",
    "    ikreq = SolvePositionIKRequest()\n",
    "    hdr = Header(stamp=rospy.Time.now(), frame_id='base')\n",
    "    \n",
    "    ikreq.pose_stamp.append(pose)\n",
    "    \n",
    "    try:\n",
    "        rospy.wait_for_service(ns, 5.0)\n",
    "        resp = iksvc(ikreq)\n",
    "    except (rospy.ServiceException, rospy.ROSException), e:\n",
    "        rospy.logerr(\"Service call failed: %s\" % (e,))\n",
    "        return (1, limb.joint_angles()) #returning current joint angles if not valid\n",
    "    \n",
    "    if (resp.isValid[0]):\n",
    "        limb_joints = dict(zip(resp.joints[0].name, resp.joints[0].position))\n",
    "        if printing:\n",
    "            print(\"SUCCESS - Valid Joint Solution Found:\")\n",
    "            # Format solution into Limb API-compatible dictionary\n",
    "            print limb_joints\n",
    "    else:\n",
    "        if printing:\n",
    "            print(\"INVALID POSE - No Valid Joint Solution Found.\")\n",
    "\n",
    "    return (0, limb_joints)"
   ]
  },
  {
   "cell_type": "code",
   "execution_count": 157,
   "metadata": {},
   "outputs": [
    {
     "name": "stdout",
     "output_type": "stream",
     "text": [
      "header: \n",
      "  seq: 0\n",
      "  stamp: \n",
      "    secs: 16241\n",
      "    nsecs: 973000000\n",
      "  frame_id: \"world\"\n",
      "pose: \n",
      "  position: \n",
      "    x: 0.600994233868\n",
      "    y: 0.201725982278\n",
      "    z: -0.293481318502\n",
      "  orientation: \n",
      "    x: 0.0361254729945\n",
      "    y: -0.903240794353\n",
      "    z: -0.416437244064\n",
      "    w: 0.097113538571\n"
     ]
    },
    {
     "data": {
      "text/plain": [
       "(0,\n",
       " {'right_e0': 2.208045442456534,\n",
       "  'right_e1': 0.40046945421502567,\n",
       "  'right_s0': 0.8211213576462049,\n",
       "  'right_s1': 0.8816811650087272,\n",
       "  'right_w0': -1.4372934956334416,\n",
       "  'right_w1': 1.0960960733276264,\n",
       "  'right_w2': -0.223073228496821})"
      ]
     },
     "execution_count": 157,
     "metadata": {},
     "output_type": "execute_result"
    }
   ],
   "source": [
    "sampled_pose = group.get_random_pose()\n",
    "print(sampled_pose)\n",
    "ik_test(sampled_pose)"
   ]
  },
  {
   "cell_type": "code",
   "execution_count": 71,
   "metadata": {},
   "outputs": [],
   "source": [
    "x_bounds = [[0.89, 1.13], [-0.2, 1.13]]\n",
    "y_bounds = [[-0.66, 0], [-0.9, -0.66]]\n",
    "\n",
    "x_ranges = [max(x_bounds[0]) - min(x_bounds[0]), max(x_bounds[1]) - min(x_bounds[1])]\n",
    "y_ranges = [max(y_bounds[0]) - min(y_bounds[0]), max(y_bounds[1]) - min(y_bounds[1])]\n",
    "\n",
    "xy_bounds_dict = {'x': x_bounds, 'y': y_bounds, 'x_r': x_ranges, 'y_r': y_ranges}\n",
    "\n",
    "\n",
    "robot_state = robot.get_current_state()\n",
    "rs_man = RobotState()  # constructed manually for comparison\n",
    "rs_man.joint_state.name = robot_state.joint_state.name\n",
    "filler_robot_state = list(robot_state.joint_state.position)"
   ]
  },
  {
   "cell_type": "code",
   "execution_count": 78,
   "metadata": {},
   "outputs": [],
   "source": [
    "def xy_check(position, bounds_dict):\n",
    "    valid0 = False\n",
    "    valid1 = False\n",
    "    validx0 = (position.x < max(xy_bounds_dict['x'][0]) and position.x > min(xy_bounds_dict['x'][0]))\n",
    "    validy0 = (position.y < max(xy_bounds_dict['y'][0]) and position.y > min(xy_bounds_dict['y'][0]))\n",
    "    \n",
    "    valid0 = validx0 and validy0\n",
    "    \n",
    "    validx1 = (position.x < max(xy_bounds_dict['x'][1]) and position.x > min(xy_bounds_dict['x'][1]))\n",
    "    validy1 = (position.y < max(xy_bounds_dict['y'][1]) and position.y > min(xy_bounds_dict['y'][1]))\n",
    "    \n",
    "    valid1 = validx1 and validy1\n",
    "    \n",
    "    valid = valid0 or valid1\n",
    "    print(\"valid0: \", valid0)\n",
    "    print(\"valid1: \", valid1)\n",
    "    print(\"valid: \", valid)\n",
    "    return valid"
   ]
  },
  {
   "cell_type": "code",
   "execution_count": 79,
   "metadata": {},
   "outputs": [
    {
     "name": "stdout",
     "output_type": "stream",
     "text": [
      "('valid0: ', False)\n",
      "('valid1: ', False)\n",
      "('valid: ', False)\n"
     ]
    },
    {
     "data": {
      "text/plain": [
       "False"
      ]
     },
     "execution_count": 79,
     "metadata": {},
     "output_type": "execute_result"
    }
   ],
   "source": [
    "xy_check(sampled_pose.pose.position, xy_bounds_dict)"
   ]
  },
  {
   "cell_type": "code",
   "execution_count": 124,
   "metadata": {
    "scrolled": false
   },
   "outputs": [
    {
     "name": "stdout",
     "output_type": "stream",
     "text": [
      "('valid0: ', False)\n",
      "('valid1: ', False)\n",
      "('valid: ', False)\n",
      "('valid0: ', False)\n",
      "('valid1: ', False)\n",
      "('valid: ', False)\n",
      "('valid0: ', False)\n",
      "('valid1: ', False)\n",
      "('valid: ', False)\n",
      "('valid0: ', False)\n",
      "('valid1: ', False)\n",
      "('valid: ', False)\n",
      "('valid0: ', False)\n",
      "('valid1: ', False)\n",
      "('valid: ', False)\n",
      "('valid0: ', False)\n",
      "('valid1: ', False)\n",
      "('valid: ', False)\n",
      "('valid0: ', False)\n",
      "('valid1: ', False)\n",
      "('valid: ', False)\n",
      "('valid0: ', True)\n",
      "('valid1: ', False)\n",
      "('valid: ', True)\n",
      "('valid0: ', False)\n",
      "('valid1: ', True)\n",
      "('valid: ', True)\n",
      "SUCCESS - Valid Joint Solution Found:\n",
      "{'right_s0': -0.48564324673411047, 'right_s1': -0.5987280913575664, 'right_w0': -2.0848749039896552, 'right_w1': -1.5707963705062866, 'right_w2': -1.5496477166450884, 'right_e0': 0.1781346144556443, 'right_e1': 1.0733307150602898}\n"
     ]
    },
    {
     "name": "stderr",
     "output_type": "stream",
     "text": [
      "[ERROR] [1546568066.780971, 14963.098000]: Service call failed: service [/ExternalTools/right/PositionKinematicsNode/IKService] responded with an error: \n"
     ]
    }
   ],
   "source": [
    "sampled_pose = group.get_random_pose()\n",
    "while (not xy_check(sampled_pose.pose.position, xy_bounds_dict) or ik_test(sampled_pose)[0]):\n",
    "    sampled_pose = group.get_random_pose()"
   ]
  },
  {
   "cell_type": "code",
   "execution_count": 126,
   "metadata": {},
   "outputs": [
    {
     "name": "stdout",
     "output_type": "stream",
     "text": [
      "('valid0: ', False)\n",
      "('valid1: ', True)\n",
      "('valid: ', True)\n",
      "SUCCESS - Valid Joint Solution Found:\n",
      "{'right_s0': -0.48564324673411047, 'right_s1': -0.5987280913575664, 'right_w0': -2.0848749039896552, 'right_w1': -1.5707963705062866, 'right_w2': -1.5496477166450884, 'right_e0': 0.1781346144556443, 'right_e1': 1.0733307150602898}\n"
     ]
    },
    {
     "data": {
      "text/plain": [
       "0"
      ]
     },
     "execution_count": 126,
     "metadata": {},
     "output_type": "execute_result"
    }
   ],
   "source": [
    "xy_check(sampled_pose.pose.position, xy_bounds_dict)\n",
    "ik_test(sampled_pose)[0]"
   ]
  },
  {
   "cell_type": "code",
   "execution_count": 81,
   "metadata": {},
   "outputs": [],
   "source": [
    "def sample_from_boundary(bounds_dict):\n",
    "    area = 0 if np.random.random() < 0.5 else 1\n",
    "    \n",
    "    x = np.random.random() * bounds_dict['x_r'][area] + min(bounds_dict['x'][area])\n",
    "    y = np.random.random() * bounds_dict['y_r'][area] + min(bounds_dict['y'][area])\n",
    "    \n",
    "    z = np.random.random() * 0.2 + 0.24\n",
    "    return([x, y, z])"
   ]
  },
  {
   "cell_type": "code",
   "execution_count": 167,
   "metadata": {},
   "outputs": [
    {
     "name": "stdout",
     "output_type": "stream",
     "text": [
      "[0.4543724571298345, -0.8840886754035028, 0.37130855540163893]\n",
      "('valid0: ', False)\n",
      "('valid1: ', True)\n",
      "('valid: ', True)\n",
      "True\n",
      "True\n"
     ]
    },
    {
     "name": "stderr",
     "output_type": "stream",
     "text": [
      "[ERROR] [1546570010.640570, 16901.376000]: Service call failed: service [/ExternalTools/right/PositionKinematicsNode/IKService] responded with an error: \n",
      "[ERROR] [1546570010.667665, 16901.403000]: Service call failed: service [/ExternalTools/right/PositionKinematicsNode/IKService] responded with an error: \n",
      "[ERROR] [1546570010.726755, 16901.458000]: Service call failed: service [/ExternalTools/right/PositionKinematicsNode/IKService] responded with an error: \n",
      "[ERROR] [1546570010.752252, 16901.487000]: Service call failed: service [/ExternalTools/right/PositionKinematicsNode/IKService] responded with an error: \n",
      "[ERROR] [1546570010.805677, 16901.540000]: Service call failed: service [/ExternalTools/right/PositionKinematicsNode/IKService] responded with an error: \n",
      "[ERROR] [1546570010.829379, 16901.564000]: Service call failed: service [/ExternalTools/right/PositionKinematicsNode/IKService] responded with an error: \n",
      "[ERROR] [1546570010.901780, 16901.636000]: Service call failed: service [/ExternalTools/right/PositionKinematicsNode/IKService] responded with an error: \n",
      "[ERROR] [1546570010.928771, 16901.663000]: Service call failed: service [/ExternalTools/right/PositionKinematicsNode/IKService] responded with an error: \n",
      "[ERROR] [1546570011.029540, 16901.764000]: Service call failed: service [/ExternalTools/right/PositionKinematicsNode/IKService] responded with an error: \n",
      "[ERROR] [1546570011.052241, 16901.786000]: Service call failed: service [/ExternalTools/right/PositionKinematicsNode/IKService] responded with an error: \n",
      "[ERROR] [1546570011.105066, 16901.839000]: Service call failed: service [/ExternalTools/right/PositionKinematicsNode/IKService] responded with an error: \n",
      "[ERROR] [1546570011.129824, 16901.864000]: Service call failed: service [/ExternalTools/right/PositionKinematicsNode/IKService] responded with an error: \n",
      "[ERROR] [1546570011.241218, 16901.975000]: Service call failed: service [/ExternalTools/right/PositionKinematicsNode/IKService] responded with an error: \n",
      "[ERROR] [1546570011.264797, 16901.998000]: Service call failed: service [/ExternalTools/right/PositionKinematicsNode/IKService] responded with an error: \n"
     ]
    },
    {
     "name": "stdout",
     "output_type": "stream",
     "text": [
      "header: \n",
      "  seq: 0\n",
      "  stamp: \n",
      "    secs: 16901\n",
      "    nsecs: 999000000\n",
      "  frame_id: \"world\"\n",
      "pose: \n",
      "  position: \n",
      "    x: 1.01309270518\n",
      "    y: -0.635957631648\n",
      "    z: 0.370935136234\n",
      "  orientation: \n",
      "    x: -0.678829942588\n",
      "    y: -0.0490864640215\n",
      "    z: -0.732523690602\n",
      "    w: 0.0137648393802\n",
      "('valid0: ', True)\n",
      "('valid1: ', False)\n",
      "('valid: ', True)\n",
      "True\n",
      "0\n",
      "\n",
      "\n",
      "\n",
      "\n",
      "{'right_s0': 0.743256469671529, 'right_s1': -0.10845871994585186, 'right_w0': 3.059000015258789, 'right_w1': 1.2268000754481727, 'right_w2': 1.2714581285209838, 'right_e0': -1.2834577384751817, 'right_e1': 1.1080340687074142}\n"
     ]
    }
   ],
   "source": [
    "pose = sample_from_boundary(xy_bounds_dict)\n",
    "print(pose)\n",
    "\n",
    "check_pose = group.get_random_pose()\n",
    "check_pose.pose.position.x = pose[0]\n",
    "check_pose.pose.position.y = pose[1]\n",
    "check_pose.pose.position.z = pose[2]\n",
    "print(xy_check(check_pose.pose.position, xy_bounds_dict))\n",
    "\n",
    "joint_angles = ik_test(check_pose)[1]\n",
    "filler_robot_state[10:17] = moveit_scrambler(joint_angles.values())\n",
    "rs_man.joint_state.position = tuple(filler_robot_state)\n",
    "\n",
    "print(sv.getStateValidity(rs_man, group_name=\"right_arm\"))\n",
    "while (ik_test(check_pose)[0] or not sv.getStateValidity(rs_man, group_name = \"right_arm\")):\n",
    "    pose = sample_from_boundary(xy_bounds_dict)\n",
    "\n",
    "    check_pose = group.get_random_pose()\n",
    "    check_pose.pose.position.x = pose[0]\n",
    "    check_pose.pose.position.y = pose[1]\n",
    "    check_pose.pose.position.z = pose[2]\n",
    "\n",
    "    if (not ik_test(check_pose)[0]):\n",
    "        joint_angles = ik_test(check_pose)[1]\n",
    "\n",
    "        filler_robot_state[10:17] = moveit_scrambler(joint_angles.values())\n",
    "        rs_man.joint_state.position = tuple(filler_robot_state)\n",
    "\n",
    "print(check_pose)\n",
    "print(xy_check(check_pose.pose.position, xy_bounds_dict))\n",
    "print(ik_test(check_pose)[0])\n",
    "print(\"\\n\\n\\n\")\n",
    "joint_angles = ik_test(check_pose)[1]\n",
    "print(joint_angles)\n",
    "\n",
    "limb.move_to_joint_positions(joint_angles)"
   ]
  }
 ],
 "metadata": {
  "kernelspec": {
   "display_name": "Python 2",
   "language": "python",
   "name": "python2"
  },
  "language_info": {
   "codemirror_mode": {
    "name": "ipython",
    "version": 2
   },
   "file_extension": ".py",
   "mimetype": "text/x-python",
   "name": "python",
   "nbconvert_exporter": "python",
   "pygments_lexer": "ipython2",
   "version": "2.7.12"
  }
 },
 "nbformat": 4,
 "nbformat_minor": 2
}
