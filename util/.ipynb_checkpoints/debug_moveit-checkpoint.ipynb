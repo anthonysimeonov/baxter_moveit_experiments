{
 "cells": [
  {
   "cell_type": "code",
   "execution_count": 1,
   "metadata": {},
   "outputs": [],
   "source": [
    "from motion_planning_dataset import *\n",
    "import pickle\n",
    "\n",
    "rospy.init_node(\"debug_moveit\")"
   ]
  },
  {
   "cell_type": "code",
   "execution_count": 2,
   "metadata": {},
   "outputs": [
    {
     "name": "stdout",
     "output_type": "stream",
     "text": [
      "[INFO] [1547597488.149266, 532.952000]: Initializing stateValidity class\n",
      "[INFO] [1547597488.153724, 532.953000]: Connecting to State Validity service\n",
      "[INFO] [1547597488.161936, 532.953000]: Reached this point\n",
      "[INFO] [1547597488.168298, 534.125000]: Ready for making Validity calls\n"
     ]
    },
    {
     "name": "stderr",
     "output_type": "stream",
     "text": [
      "[WARN] [1547597488.167132, 534.124000]: Param '/play_motion/approach_planner/planning_groups' not set. We can't guess controllers\n"
     ]
    },
    {
     "name": "stdout",
     "output_type": "stream",
     "text": [
      "['table_center', 'table_side_right', 'wall']\n",
      "joint_state: \n",
      "  header: \n",
      "    seq: 0\n",
      "    stamp: \n",
      "      secs: 0\n",
      "      nsecs:         0\n",
      "    frame_id: \"world\"\n",
      "  name: [head_pan, left_s0, left_s1, left_e0, left_e1, left_w0, left_w1, left_w2, l_gripper_l_finger_joint,\n",
      "  l_gripper_r_finger_joint, right_s0, right_s1, right_e0, right_e1, right_w0, right_w1,\n",
      "  right_w2, r_gripper_l_finger_joint, r_gripper_r_finger_joint]\n",
      "  position: [-3.3472230276387904e-06, 0.19248106282505262, 1.0470000440540952, -0.016180725434624676, 0.4943663419478854, -0.19309467308468165, 0.026778107284227914, -0.014848124549314612, 0.02083301383279299, 2.1001958523673204e-08, -0.27263990379309444, 1.047000013777657, -0.021022774566173297, 0.49538381049056834, -0.09985411036890213, 0.028134801518619135, 0.02865235362831431, 0.020833001511814525, 8.723723273206267e-10]\n",
      "  velocity: []\n",
      "  effort: []\n",
      "multi_dof_joint_state: \n",
      "  header: \n",
      "    seq: 0\n",
      "    stamp: \n",
      "      secs: 0\n",
      "      nsecs:         0\n",
      "    frame_id: \"world\"\n",
      "  joint_names: []\n",
      "  transforms: []\n",
      "  twist: []\n",
      "  wrench: []\n",
      "attached_collision_objects: []\n",
      "is_diff: False\n"
     ]
    }
   ],
   "source": [
    "limb = baxter_interface.Limb('right')\n",
    "def_angles = limb.joint_angles()\n",
    "limb.set_joint_position_speed(0.65)\n",
    "\n",
    "\n",
    "robot_state_collision_pub = rospy.Publisher('/robot_collision_state', DisplayRobotState, queue_size=0)\n",
    "\n",
    "scene = PlanningSceneInterface()\n",
    "scene._scene_pub = rospy.Publisher('planning_scene',\n",
    "                                          PlanningScene,\n",
    "                                          queue_size=0)\n",
    "robot = RobotCommander()\n",
    "group = MoveGroupCommander(\"right_arm\")\n",
    "# group.set_goal_joint_tolerance(0.001)\n",
    "# group.set_max_velocity_scaling_factor(0.5)\n",
    "# group.set_max_acceleration_scaling_factor(0.05)\n",
    "\n",
    "rs_man = RobotState()\n",
    "\n",
    "sv = StateValidity()\n",
    "\n",
    "\n",
    "set_environment(robot, scene)\n",
    "\n",
    "\n",
    "masterPoseDict = {}\n",
    "poseFile = \"poseTest_1.pkl\"\n",
    "paths = []\n",
    "pathsFile = \"pathsTest_1.pkl\"\n",
    "iter_num = 0\n",
    "\n",
    "masterModifier = ShelfSceneModifier()\n",
    "sceneModifier = PlanningSceneModifier(masterModifier.obstacles)\n",
    "sceneModifier.setup_scene(scene, robot, group)\n",
    "\n",
    "collision_free_samples = np.load('collision_free_samples.npy').tolist()\n",
    "robot_state = robot.get_current_state()\n",
    "print(robot_state)\n",
    "rs_man = RobotState()  # constructed manually for comparison\n",
    "rs_man.joint_state.name = robot_state.joint_state.name\n",
    "t = time.time()\n",
    "\n",
    "done = False"
   ]
  },
  {
   "cell_type": "code",
   "execution_count": null,
   "metadata": {},
   "outputs": [],
   "source": [
    "print(dir(group))"
   ]
  },
  {
   "cell_type": "code",
   "execution_count": 3,
   "metadata": {},
   "outputs": [
    {
     "name": "stdout",
     "output_type": "stream",
     "text": [
      "['mpnet_book', 'mpnet_bottle', 'mpnet_box1', 'mpnet_coffee', 'mpnet_pepsi', 'table_center', 'table_side_right', 'wall']\n",
      "\n",
      " Start: \n",
      "\n",
      "{'right_s0': -0.07959095687290274, 'right_s1': -0.2996426438226709, 'right_w0': 1.1209796122598323, 'right_w1': -1.547840815971209, 'right_w2': -1.4411814207262494, 'right_e0': 1.5259270256659851, 'right_e1': 1.2115175594148886}\n",
      "\n",
      " Goal: \n",
      "\n",
      "{'right_s0': 0.7426732868655801, 'right_s1': -0.6195789091220205, 'right_w0': 0.4771086153115398, 'right_w1': 1.4035225201101431, 'right_w2': -2.0249358076033896, 'right_e0': -0.6908775231215949, 'right_e1': 0.43065920217992737}\n"
     ]
    }
   ],
   "source": [
    "new_pose = masterModifier.permute_obstacles()\n",
    "key_name = 'Pose_' + str(iter_num)\n",
    "\n",
    "sceneModifier.permute_obstacles(new_pose)\n",
    "\n",
    "#do planning and save data\n",
    "start = collision_free_samples[np.random.randint(0, len(collision_free_samples))]\n",
    "goal = collision_free_samples[np.random.randint(0, len(collision_free_samples))]\n",
    "print(\"\\n Start: \\n\")\n",
    "print(start)\n",
    "print(\"\\n Goal: \\n\")\n",
    "print(goal)\n",
    "group.clear_pose_targets()"
   ]
  },
  {
   "cell_type": "code",
   "execution_count": null,
   "metadata": {},
   "outputs": [],
   "source": [
    "# limb.move_to_joint_positions(start) #modified start set\n",
    "# dir(group)\n",
    "# print(group.get_current_joint_values())\n",
    "robot_state = robot.get_current_state()\n",
    "print(\"robot state: \\n\")\n",
    "print(robot_state)\n",
    "rs_man = RobotState()\n",
    "rs_man.joint_state.name = robot_state.joint_state.name\n",
    "filler_robot_state = list(robot_state.joint_state.position)\n",
    "\n",
    "# filler_robot_state[11] = -1.0\n",
    "\n",
    "#uncomment below to put actual start state, testing neutral pose\n",
    "# filler_robot_state[10:17] = moveit_scrambler(start.values())"
   ]
  },
  {
   "cell_type": "code",
   "execution_count": null,
   "metadata": {},
   "outputs": [],
   "source": [
    "rs_man.joint_state.position = tuple(filler_robot_state)\n",
    "rs_man.multi_dof_joint_state.header.frame_id = robot_state.multi_dof_joint_state.header.frame_id\n",
    "rs_man.joint_state.header.frame_id = robot_state.joint_state.header.frame_id\n",
    "print(rs_man)\n",
    "print(robot.get_current_state())"
   ]
  },
  {
   "cell_type": "code",
   "execution_count": null,
   "metadata": {},
   "outputs": [],
   "source": [
    "group.clear_pose_targets()\n",
    "target = moveit_scrambler(goal.values())\n",
    "\n",
    "group.set_start_state(rs_man)\n",
    "group.set_joint_value_target(target)"
   ]
  },
  {
   "cell_type": "code",
   "execution_count": null,
   "metadata": {},
   "outputs": [],
   "source": [
    "# print(\"Going to start \\n\\n\\n\")\n",
    "# # limb.move_to_joint_positions(start) #modified start set\n",
    "\n",
    "# group.set_start_state_to_current_state()\n",
    "# target = moveit_scrambler(start.values())\n",
    "# group.set_joint_value_target(target)\n",
    "# plan = group.plan()\n",
    "# group.execute(plan, wait=True)\n",
    "\n",
    "# print(\"Should be at start\\n\\n\\n\")"
   ]
  },
  {
   "cell_type": "code",
   "execution_count": null,
   "metadata": {},
   "outputs": [],
   "source": []
  },
  {
   "cell_type": "code",
   "execution_count": null,
   "metadata": {},
   "outputs": [],
   "source": [
    "plan = group.plan()"
   ]
  },
  {
   "cell_type": "code",
   "execution_count": null,
   "metadata": {},
   "outputs": [],
   "source": [
    "print(len(plan.joint_trajectory.points))"
   ]
  },
  {
   "cell_type": "code",
   "execution_count": null,
   "metadata": {},
   "outputs": [],
   "source": [
    "t = time.time()\n",
    "col = sv.getStateValidity(rs_man, group_name=\"right_arm\")\n",
    "dt = time.time() - t\n",
    "\n",
    "print(\"Valid: \" + str(col))\n",
    "print(dt)"
   ]
  },
  {
   "cell_type": "code",
   "execution_count": null,
   "metadata": {},
   "outputs": [],
   "source": [
    "dir(plan)\n",
    "pos = [plan.joint_trajectory.points[i].positions for i in range(len(plan.joint_trajectory.points))]\n",
    "\n",
    "for position in pos:\n",
    "    print(\"\\n\")\n",
    "    print(list(position))\n"
   ]
  },
  {
   "cell_type": "code",
   "execution_count": null,
   "metadata": {},
   "outputs": [],
   "source": [
    "# filename = \"paths_5.pkl\"\n",
    "# with open(filename, \"wb\") as f:\n",
    "#     pickle.dump(pos, f)"
   ]
  },
  {
   "cell_type": "code",
   "execution_count": null,
   "metadata": {},
   "outputs": [],
   "source": [
    "group.execute(plan, wait=True)"
   ]
  },
  {
   "cell_type": "code",
   "execution_count": 1,
   "metadata": {},
   "outputs": [
    {
     "ename": "NameError",
     "evalue": "name 'sceneModifier' is not defined",
     "output_type": "error",
     "traceback": [
      "\u001b[0;31m---------------------------------------------------------------------------\u001b[0m",
      "\u001b[0;31mNameError\u001b[0m                                 Traceback (most recent call last)",
      "\u001b[0;32m<ipython-input-1-d5170f97a0d7>\u001b[0m in \u001b[0;36m<module>\u001b[0;34m()\u001b[0m\n\u001b[0;32m----> 1\u001b[0;31m \u001b[0msceneModifier\u001b[0m\u001b[0;34m.\u001b[0m\u001b[0mdelete_obstacles\u001b[0m\u001b[0;34m(\u001b[0m\u001b[0;34m)\u001b[0m\u001b[0;34m\u001b[0m\u001b[0m\n\u001b[0m",
      "\u001b[0;31mNameError\u001b[0m: name 'sceneModifier' is not defined"
     ]
    }
   ],
   "source": [
    "sceneModifier.delete_obstacles()"
   ]
  },
  {
   "cell_type": "code",
   "execution_count": null,
   "metadata": {},
   "outputs": [],
   "source": [
    "print(group.get_path_constraints())"
   ]
  },
  {
   "cell_type": "code",
   "execution_count": null,
   "metadata": {},
   "outputs": [],
   "source": [
    "dir(group)\n",
    "\n",
    "# print(group.get_trajectory_constraints())"
   ]
  },
  {
   "cell_type": "code",
   "execution_count": null,
   "metadata": {},
   "outputs": [],
   "source": [
    "print(group.get_end_effector_link())\n",
    "\n",
    "print(group.get_current_pose())"
   ]
  },
  {
   "cell_type": "code",
   "execution_count": null,
   "metadata": {},
   "outputs": [],
   "source": [
    "group.clear_pose_targets()\n",
    "group.set_start_state_to_current_state()\n",
    "# group.set_position_target(xyz=[0.7, -0.7, 0.4])\n",
    "target = moveit_scrambler(goal.values())\n",
    "group.set_joint_value_target(target)\n",
    "# plan = group.plan()"
   ]
  },
  {
   "cell_type": "code",
   "execution_count": null,
   "metadata": {},
   "outputs": [],
   "source": [
    "print(len(plan.joint_trajectory.points))\n",
    "print(target)"
   ]
  },
  {
   "cell_type": "code",
   "execution_count": null,
   "metadata": {},
   "outputs": [],
   "source": [
    "print(group.get_joint_value_target())"
   ]
  },
  {
   "cell_type": "code",
   "execution_count": null,
   "metadata": {},
   "outputs": [],
   "source": [
    "dir(group)"
   ]
  },
  {
   "cell_type": "code",
   "execution_count": null,
   "metadata": {},
   "outputs": [],
   "source": [
    "samples = np.load('collision_free_samples.npy')\n",
    "print(type(samples))"
   ]
  },
  {
   "cell_type": "code",
   "execution_count": null,
   "metadata": {},
   "outputs": [],
   "source": [
    "print(group.get_random_joint_values())\n",
    "print(group.get_random_pose())"
   ]
  }
 ],
 "metadata": {
  "kernelspec": {
   "display_name": "Python 2",
   "language": "python",
   "name": "python2"
  },
  "language_info": {
   "codemirror_mode": {
    "name": "ipython",
    "version": 2
   },
   "file_extension": ".py",
   "mimetype": "text/x-python",
   "name": "python",
   "nbconvert_exporter": "python",
   "pygments_lexer": "ipython2",
   "version": "2.7.12"
  }
 },
 "nbformat": 4,
 "nbformat_minor": 2
}
