{
 "cells": [
  {
   "cell_type": "code",
   "execution_count": null,
   "metadata": {},
   "outputs": [],
   "source": [
    "from motion_planning_dataset import *\n",
    "import pickle\n",
    "\n",
    "rospy.init_node(\"save_obstacles\")"
   ]
  },
  {
   "cell_type": "code",
   "execution_count": null,
   "metadata": {},
   "outputs": [],
   "source": [
    "limb = baxter_interface.Limb('right')\n",
    "def_angles = limb.joint_angles()\n",
    "limb.set_joint_position_speed(0.65)\n",
    "robot_state_collision_pub = rospy.Publisher('/robot_collision_state', DisplayRobotState, queue_size=0)\n",
    "scene = PlanningSceneInterface()\n",
    "scene._scene_pub = rospy.Publisher('planning_scene',\n",
    "                                          PlanningScene,\n",
    "                                          queue_size=0)\n",
    "robot = RobotCommander()\n",
    "group = MoveGroupCommander(\"right_arm\")\n",
    "rs_man = RobotState()\n",
    "\n",
    "sv = StateValidity()\n",
    "set_environment(robot, scene)\n",
    "\n",
    "masterModifier = ShelfSceneModifier()\n",
    "sceneModifier = PlanningSceneModifier(masterModifier.obstacles)\n",
    "sceneModifier.setup_scene(scene, robot, group)\n",
    "\n",
    "duck_color = color_norm([255, 255, 0])\n",
    "\n",
    "done = False"
   ]
  },
  {
   "cell_type": "code",
   "execution_count": null,
   "metadata": {},
   "outputs": [],
   "source": [
    "masterEnvDict = {}\n",
    "masterEnvDict['poses'] = {}\n",
    "envFileName = \"testEnvironments_test1_view.pkl\"\n",
    "iter_num = 0"
   ]
  },
  {
   "cell_type": "code",
   "execution_count": null,
   "metadata": {},
   "outputs": [],
   "source": [
    "sceneModifier.delete_obstacles()\n",
    "new_pose = masterModifier.permute_obstacles()\n",
    "sceneModifier.permute_obstacles(new_pose)\n",
    "for obs in masterModifier.obstacles.keys():\n",
    "    setColor(masterModifier.obstacles[obs]['name'], duck_color[0], duck_color[1], duck_color[2], 1)\n",
    "    \n",
    "sendColors(scene)"
   ]
  },
  {
   "cell_type": "code",
   "execution_count": null,
   "metadata": {},
   "outputs": [],
   "source": [
    "key_name = 'trainEnv_' + str(iter_num)\n",
    "masterEnvDict['poses'][key_name] = new_pose\n",
    "iter_num += 1\n",
    "print(iter_num)"
   ]
  },
  {
   "cell_type": "code",
   "execution_count": null,
   "metadata": {},
   "outputs": [],
   "source": [
    "masterEnvDict['obsData'] = sceneModifier._obstacles"
   ]
  },
  {
   "cell_type": "code",
   "execution_count": null,
   "metadata": {},
   "outputs": [],
   "source": [
    "#pickle save\n",
    "with open(envFileName, \"wb\") as env_f:\n",
    "    pickle.dump(masterEnvDict, env_f)"
   ]
  }
 ],
 "metadata": {
  "kernelspec": {
   "display_name": "Python 2",
   "language": "python",
   "name": "python2"
  },
  "language_info": {
   "codemirror_mode": {
    "name": "ipython",
    "version": 2
   },
   "file_extension": ".py",
   "mimetype": "text/x-python",
   "name": "python",
   "nbconvert_exporter": "python",
   "pygments_lexer": "ipython2",
   "version": "2.7.12"
  }
 },
 "nbformat": 4,
 "nbformat_minor": 2
}
