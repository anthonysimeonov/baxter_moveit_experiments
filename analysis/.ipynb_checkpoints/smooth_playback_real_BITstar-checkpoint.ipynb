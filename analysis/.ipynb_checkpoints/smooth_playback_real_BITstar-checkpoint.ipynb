{
 "cells": [
  {
   "cell_type": "code",
   "execution_count": null,
   "metadata": {},
   "outputs": [],
   "source": [
    "import numpy as np\n",
    "import rospy\n",
    "import baxter_interface\n",
    "import pickle\n",
    "\n",
    "import copy\n",
    "from motion_planning_dataset import *\n",
    "\n",
    "# Joint ranges for the baxter, in the order defined in the Baxter SDK (NOT the MoveIt! order)\n",
    "joint_ranges = np.array([3.4033, 3.194, 6.117, 3.6647, 6.117, 6.1083, 2.67])\n",
    "\n",
    "def compute_cost(path):\n",
    "    # Overall Euclidean path length in C-space\n",
    "    dlist = []\n",
    "    for k in range(len(path)-1):\n",
    "        sq_dists = 0\n",
    "        for j in range(0,7):\n",
    "            diff = path[k][j] - path[k+1][j]\n",
    "            sq_dist += diff * diff\n",
    "\n",
    "        dlist.append(math.sqrt(sq_dists))\n",
    "\n",
    "    return sum(dlist)\n",
    "\n",
    "def unscramble_path(path):\n",
    "    # Calls moveit_unscrambler function on each state to change from MoveIt joint order to Baxter joint order\n",
    "    new_path = []\n",
    "    for state in path:\n",
    "        new_state = moveit_unscrambler(state)\n",
    "        new_path.append(new_state)\n",
    "        \n",
    "    return new_path\n",
    "\n",
    "def check_full_path(overall_path):\n",
    "    # Calls a state validity service on each state in the path\n",
    "    invalid = []\n",
    "\n",
    "    valid = True           #state validity\n",
    "    overall_valid = True   #overall validity\n",
    "\n",
    "    for i, state in enumerate(overall_path):\n",
    "        filler_robot_state[10:17] = moveit_scrambler(state)\n",
    "        rs_man.joint_state.position = tuple(filler_robot_state)\n",
    "        collision_free = sv.getStateValidity(rs_man, group_name=\"right_arm\")\n",
    "\n",
    "        valid = valid and collision_free\n",
    "        overall_valid = overall_valid and collision_free\n",
    "\n",
    "        if not valid:\n",
    "            invalid.append(i)\n",
    "            valid = True    #reset on each waypoint\n",
    "\n",
    "    if (len(invalid)==0 and overall_valid):\n",
    "        print(\"Full path valid!\")\n",
    "    else:\n",
    "        print(\"Not valid\")\n",
    "        \n",
    "    return overall_valid"
   ]
  },
  {
   "cell_type": "code",
   "execution_count": null,
   "metadata": {},
   "outputs": [],
   "source": [
    "rospy.init_node(\"playback\")\n",
    "limb = baxter_interface.Limb('right')\n",
    "gripper = baxter_interface.Gripper('right')\n",
    "\n",
    "robot_state_collision_pub = rospy.Publisher('/robot_collision_state', DisplayRobotState, queue_size=0)\n",
    "scene = PlanningSceneInterface()\n",
    "scene._scene_pub = rospy.Publisher('planning_scene',\n",
    "                                          PlanningScene,\n",
    "                                          queue_size=0)\n",
    "robot = RobotCommander()\n",
    "group = MoveGroupCommander(\"right_arm\")\n",
    "rs_man = RobotState()\n",
    "sv = StateValidity()\n",
    "\n",
    "set_environment(robot, scene)\n",
    "\n",
    "with open(\"../env/trainEnvironments_GazeboPatch.pkl\", \"rb\") as env_f:\n",
    "    masterEnvDict = pickle.load(env_f)\n",
    "\n",
    "# Load the scene with the obstacles as defined in the environment dictionary file, under key 'obsData'\n",
    "# which contains the obstacle information (mesh file, scale, name, etc.)\n",
    "sceneModifier = PlanningSceneModifier(masterEnvDict['obsData'])\n",
    "sceneModifier.setup_scene(scene, robot, group)\n",
    "\n",
    "# Construct a state object in case you want to do collision checking\n",
    "rs_man = RobotState()\n",
    "robot_state = robot.get_current_state()\n",
    "rs_man.joint_state.name = robot_state.joint_state.name\n",
    "filler_robot_state = list(robot_state.joint_state.position)"
   ]
  },
  {
   "cell_type": "code",
   "execution_count": null,
   "metadata": {},
   "outputs": [],
   "source": [
    "sceneModifier.delete_obstacles()"
   ]
  },
  {
   "cell_type": "code",
   "execution_count": null,
   "metadata": {},
   "outputs": [],
   "source": [
    "# all environments are called 'trainEnv_N' with N = linspace(0, 9, 1)\n",
    "env = 'trainEnv_0'\n",
    "new_pose = masterEnvDict['poses'][env]\n",
    "sceneModifier.permute_obstacles(new_pose)"
   ]
  },
  {
   "cell_type": "code",
   "execution_count": null,
   "metadata": {},
   "outputs": [],
   "source": [
    "limb.set_joint_position_speed(0.25)"
   ]
  },
  {
   "cell_type": "code",
   "execution_count": null,
   "metadata": {},
   "outputs": [],
   "source": [
    "with open('../data/path_data_example.pkl', 'rb') as path_f:\n",
    "    paths_dict = pickle.load(path_f)   "
   ]
  },
  {
   "cell_type": "code",
   "execution_count": null,
   "metadata": {},
   "outputs": [],
   "source": [
    "path_1_bit = path_1_dict['paths'][4][1:]\n",
    "path_1_bit = unscramble_path(path_1_bit)\n",
    "\n",
    "path_1_bit_rev = copy.deepcopy(path_1_bit)\n",
    "path_1_bit_rev.reverse()\n",
    "\n",
    "check_full_path(path_1_bit)"
   ]
  },
  {
   "cell_type": "code",
   "execution_count": null,
   "metadata": {},
   "outputs": [],
   "source": [
    "play_smooth(path_1_bit)"
   ]
  }
 ],
 "metadata": {
  "kernelspec": {
   "display_name": "Python 2",
   "language": "python",
   "name": "python2"
  },
  "language_info": {
   "codemirror_mode": {
    "name": "ipython",
    "version": 2
   },
   "file_extension": ".py",
   "mimetype": "text/x-python",
   "name": "python",
   "nbconvert_exporter": "python",
   "pygments_lexer": "ipython2",
   "version": "2.7.12"
  }
 },
 "nbformat": 4,
 "nbformat_minor": 2
}
