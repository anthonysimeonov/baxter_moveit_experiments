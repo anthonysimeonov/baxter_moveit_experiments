{
 "cells": [
  {
   "cell_type": "code",
   "execution_count": null,
   "metadata": {},
   "outputs": [],
   "source": [
    "import numpy as np\n",
    "import pickle"
   ]
  },
  {
   "cell_type": "markdown",
   "metadata": {},
   "source": [
    "### Set experiment name"
   ]
  },
  {
   "cell_type": "code",
   "execution_count": null,
   "metadata": {},
   "outputs": [],
   "source": [
    "### Set this to the file extension used during the data collection ###\n",
    "experiment_file_name = 'path_data_example'"
   ]
  },
  {
   "cell_type": "markdown",
   "metadata": {},
   "source": [
    "### Load environments and set full path file"
   ]
  },
  {
   "cell_type": "code",
   "execution_count": null,
   "metadata": {},
   "outputs": [],
   "source": [
    "# Get environments in case multiple environment results are being analyzed\n",
    "with open(\"../env/trainEnvironments.pkl\", \"rb\") as env_f:\n",
    "    envDict = pickle.load(env_f)\n",
    "    \n",
    "analysis_envs = envDict['poses'].keys() #take a slice/subset of this if only a few environments\n",
    "    \n",
    "# Get file path using experiment name\n",
    "path_file = \"../data/\" + experiment_file_name              # multi environments\n",
    "# path_file = \"../data/\" + experiment_file_name + \".pkl\"   # single environments"
   ]
  },
  {
   "cell_type": "markdown",
   "metadata": {},
   "source": [
    "### Multiple Environment Analysis"
   ]
  },
  {
   "cell_type": "code",
   "execution_count": null,
   "metadata": {},
   "outputs": [],
   "source": [
    "# Multi environment analysis\n",
    "mean_time = []\n",
    "mean_accuracy = []\n",
    "mean_cost = []\n",
    "\n",
    "print(\"Mean time, mean cost, mean accuracy (per environment):\")\n",
    "for i, env in enumerate(analysis_envs):\n",
    "\n",
    "    with open (path_file+'_'+env+'.pkl', 'rb') as data_f:\n",
    "        data = pickle.load(data_f)\n",
    "        \n",
    "    print(env, np.mean(data['times']), np.mean(data['costs']), data['feasible']*100.0/data['total'])\n",
    "    mean_time.append(np.mean(data['times']))\n",
    "    mean_cost.append(np.mean(data['costs']))\n",
    "    mean_accuracy.append(data['feasible']*100.0/data['total'])\n",
    "    \n",
    "print(\"Mean time, mean cost, mean accuracy (overall average):\")\n",
    "print(np.mean(mean_time), np.mean(mean_cost), np.mean(mean_accuracy))"
   ]
  },
  {
   "cell_type": "markdown",
   "metadata": {},
   "source": [
    "### Single Environment Analysis"
   ]
  },
  {
   "cell_type": "code",
   "execution_count": null,
   "metadata": {},
   "outputs": [],
   "source": [
    "with open (path_file, 'rb') as data_f:\n",
    "    path_data = pickle.load(data_f)\n",
    "\n",
    "# Analyze data, for example means: \n",
    "print(np.mean(path_data['times']), np.mean(path_data['costs']), path_data['feasible']*100.0/data['total'])"
   ]
  }
 ],
 "metadata": {
  "kernelspec": {
   "display_name": "Python 2",
   "language": "python",
   "name": "python2"
  },
  "language_info": {
   "codemirror_mode": {
    "name": "ipython",
    "version": 2
   },
   "file_extension": ".py",
   "mimetype": "text/x-python",
   "name": "python",
   "nbconvert_exporter": "python",
   "pygments_lexer": "ipython2",
   "version": "2.7.12"
  }
 },
 "nbformat": 4,
 "nbformat_minor": 2
}
