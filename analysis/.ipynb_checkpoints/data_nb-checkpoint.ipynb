{
 "cells": [
  {
   "cell_type": "code",
   "execution_count": 1,
   "metadata": {},
   "outputs": [],
   "source": [
    "import numpy as np\n",
    "import matplotlib.pyplot as plt\n",
    "from mpl_toolkits.mplot3d import Axes3D\n",
    "import pickle\n",
    "import pypcd"
   ]
  },
  {
   "cell_type": "code",
   "execution_count": null,
   "metadata": {},
   "outputs": [],
   "source": [
    "import baxter_interface\n",
    "import rospy\n",
    "\n",
    "rospy.init_node(\"playback\")\n",
    "limb = baxter_interface.Limb('right')"
   ]
  },
  {
   "cell_type": "code",
   "execution_count": null,
   "metadata": {},
   "outputs": [],
   "source": [
    "#TODO\n",
    "# MoveIt descrambler (can do this on the save end too?)\n",
    "# Interpolator\n",
    "# Playback using non-blocking move commands after interpolation is done\n",
    "# Save trajectory data"
   ]
  },
  {
   "cell_type": "code",
   "execution_count": 3,
   "metadata": {},
   "outputs": [
    {
     "ename": "IOError",
     "evalue": "[Errno 2] No such file or directory: 'trainPathsLarge_trainEnv_4.pkl'",
     "output_type": "error",
     "traceback": [
      "\u001b[0;31m---------------------------------------------------------------------------\u001b[0m",
      "\u001b[0;31mIOError\u001b[0m                                   Traceback (most recent call last)",
      "\u001b[0;32m<ipython-input-3-9be29ab9aa91>\u001b[0m in \u001b[0;36m<module>\u001b[0;34m()\u001b[0m\n\u001b[1;32m      3\u001b[0m \u001b[0;34m\u001b[0m\u001b[0m\n\u001b[1;32m      4\u001b[0m \u001b[0;31m# with open (\"paths_5.pkl\", \"rb\") as paths_f:\u001b[0m\u001b[0;34m\u001b[0m\u001b[0;34m\u001b[0m\u001b[0m\n\u001b[0;32m----> 5\u001b[0;31m \u001b[0;32mwith\u001b[0m \u001b[0mopen\u001b[0m \u001b[0;34m(\u001b[0m\u001b[0mpath_path\u001b[0m \u001b[0;34m+\u001b[0m \u001b[0menv\u001b[0m \u001b[0;34m+\u001b[0m \u001b[0;34m'.pkl'\u001b[0m\u001b[0;34m,\u001b[0m \u001b[0;34m\"rb\"\u001b[0m\u001b[0;34m)\u001b[0m \u001b[0;32mas\u001b[0m \u001b[0mpaths_f\u001b[0m\u001b[0;34m:\u001b[0m\u001b[0;34m\u001b[0m\u001b[0m\n\u001b[0m\u001b[1;32m      6\u001b[0m     \u001b[0mpaths\u001b[0m \u001b[0;34m=\u001b[0m \u001b[0mpickle\u001b[0m\u001b[0;34m.\u001b[0m\u001b[0mload\u001b[0m\u001b[0;34m(\u001b[0m\u001b[0mpaths_f\u001b[0m\u001b[0;34m)\u001b[0m\u001b[0;34m\u001b[0m\u001b[0m\n",
      "\u001b[0;31mIOError\u001b[0m: [Errno 2] No such file or directory: 'trainPathsLarge_trainEnv_4.pkl'"
     ]
    }
   ],
   "source": [
    "env = 'trainEnv_4'\n",
    "path_path = '../data/full_dataset_sample/trainPathsLarge_'\n",
    "\n",
    "# with open (\"paths_5.pkl\", \"rb\") as paths_f:\n",
    "with open (path_path + env + '.pkl', \"rb\") as paths_f:\n",
    "    paths = pickle.load(paths_f)"
   ]
  },
  {
   "cell_type": "code",
   "execution_count": null,
   "metadata": {},
   "outputs": [],
   "source": [
    "# print(len(paths))\n",
    "# print(len(paths[0]))\n",
    "# print(len(paths[0][0]))\n",
    "# print(paths[0][0])"
   ]
  },
  {
   "cell_type": "code",
   "execution_count": null,
   "metadata": {},
   "outputs": [],
   "source": [
    "# print(paths[0].shape)"
   ]
  },
  {
   "cell_type": "code",
   "execution_count": null,
   "metadata": {},
   "outputs": [],
   "source": [
    "print(len(paths))\n",
    "print(type(paths[0]))"
   ]
  },
  {
   "cell_type": "code",
   "execution_count": null,
   "metadata": {},
   "outputs": [],
   "source": [
    "new_paths = np.zeros([len(paths), 7])\n",
    "\n",
    "for i, state in enumerate(paths):\n",
    "    print(i, list(state)[0:2])\n",
    "    \n",
    "    new_paths[i, 0:2] = list(state)[0:2]\n",
    "    new_paths[i, 2:5] = list(state)[4:]\n",
    "    new_paths[i, 5:]  = list(state)[2:4]"
   ]
  },
  {
   "cell_type": "code",
   "execution_count": null,
   "metadata": {},
   "outputs": [],
   "source": [
    "joint_state = limb.joint_angles()\n",
    "for i, name in enumerate(joint_state.keys()):\n",
    "    joint_state[name] = new_paths[0, i]\n",
    "# joint_state.values = paths[0][0]\n",
    "\n",
    "limb.move_to_joint_positions(joint_state)"
   ]
  },
  {
   "cell_type": "code",
   "execution_count": null,
   "metadata": {},
   "outputs": [],
   "source": [
    "for k in range(new_paths.shape[0]):\n",
    "    for i, name in enumerate(joint_state.keys()):\n",
    "        joint_state[name] = new_paths[k, i]\n",
    "    limb.move_to_joint_positions(joint_state)"
   ]
  }
 ],
 "metadata": {
  "kernelspec": {
   "display_name": "Python 2",
   "language": "python",
   "name": "python2"
  },
  "language_info": {
   "codemirror_mode": {
    "name": "ipython",
    "version": 2
   },
   "file_extension": ".py",
   "mimetype": "text/x-python",
   "name": "python",
   "nbconvert_exporter": "python",
   "pygments_lexer": "ipython2",
   "version": "2.7.12"
  }
 },
 "nbformat": 4,
 "nbformat_minor": 2
}
